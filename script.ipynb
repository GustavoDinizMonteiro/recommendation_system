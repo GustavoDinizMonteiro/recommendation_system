{
 "cells": [
  {
   "cell_type": "markdown",
   "metadata": {},
   "source": [
    "Tema do Projeto: Sistema de recomendação de filmes\n",
    "\n",
    "Autor: Gustavo Diniz Monteiro\n",
    "\n",
    "Este projeto tem como objetivo desenvolver um sistema de recomendação de filmes. Baseando-se nos dados retirados do site Movielens. A partir desses dados foi desenvolvido um sistema de recomendação de filmes baseado em dois algoritmos (KNN e SVD) que serão mostrados abaixo."
   ]
  },
  {
   "cell_type": "code",
   "execution_count": 2,
   "metadata": {},
   "outputs": [],
   "source": [
    "import os\n",
    "import pandas as pd\n",
    "from surprise import Dataset, KNNBasic, Reader, accuracy, SVD\n",
    "from surprise.model_selection import cross_validate, PredefinedKFold"
   ]
  },
  {
   "cell_type": "markdown",
   "metadata": {},
   "source": [
    "Carregando os dados\n",
    "\n",
    "Abaixo os dados são lidos de modo a criar um dataset do conjunto de treino e de teste,\n",
    "um set de ids de usuários e um set de ids de items (filmes). O conjunto de dados utilizado é o ml-100k"
   ]
  },
  {
   "cell_type": "code",
   "execution_count": 3,
   "metadata": {},
   "outputs": [],
   "source": [
    "items_stream = open('ml-100k/u.item', 'r')\n",
    "item_data = items_stream.read().split('\\n')\n",
    "item_data = list(map(lambda item: item.split('|')[:2], item_data))\n",
    "items_stream.close()"
   ]
  },
  {
   "cell_type": "code",
   "execution_count": 10,
   "metadata": {},
   "outputs": [],
   "source": [
    "database = pd.read_csv('ml-100k/data.csv')\n",
    "user_set = set(database.user_id)\n",
    "item_set = set(database.item_id)\n",
    "not_watch = {user: item_set - set(database.query('user_id == %s' %(user)).item_id) for user in user_set}"
   ]
  },
  {
   "cell_type": "code",
   "execution_count": 11,
   "metadata": {},
   "outputs": [],
   "source": [
    "files_dir = os.path.expanduser('ml-100k/')\n",
    "reader = Reader('ml-100k')\n",
    "\n",
    "train_file = files_dir + 'u1.base'\n",
    "test_file = files_dir + 'u1.test'\n",
    "folds_files = [(train_file, test_file)]\n",
    "\n",
    "data = Dataset.load_from_folds(folds_files, reader=reader)\n",
    "pkf = PredefinedKFold()"
   ]
  },
  {
   "cell_type": "code",
   "execution_count": 12,
   "metadata": {},
   "outputs": [
    {
     "name": "stdout",
     "output_type": "stream",
     "text": [
      "Computing the cosine similarity matrix...\n",
      "Done computing similarity matrix.\n"
     ]
    }
   ],
   "source": [
    "sim_options = {\n",
    "    'name': 'cosine',\n",
    "    'user_based': True  # compute  similarities between users\n",
    "}\n",
    "\n",
    "algo_knn = KNNBasic(sim_options=sim_options, k=4, min_k=2)\n",
    "algo_svd = SVD()\n",
    "\n",
    "for trainset, testset in pkf.split(data):\n",
    "\n",
    "    # train and test algorithm.\n",
    "    algo_knn.fit(trainset)\n",
    "    algo_svd.fit(trainset)\n",
    "    predictions_knn = algo_knn.test(testset)\n",
    "    predictions_svd = algo_svd.test(testset)"
   ]
  },
  {
   "cell_type": "code",
   "execution_count": 13,
   "metadata": {},
   "outputs": [],
   "source": [
    "def get_top_5_knn(uid):\n",
    "    top = []\n",
    "    items = not_watch[int(uid)]\n",
    "    \n",
    "    for item in items:\n",
    "        top.append((item, algo_knn.predict(uid=uid, iid=str(item)).est))\n",
    "    \n",
    "    return sorted(top, key=lambda item: item[1], reverse=True)[:5]\n",
    "\n",
    "\n",
    "def get_top_5_movies_knn(uid):\n",
    "    top_5 = get_top_5_knn(uid)\n",
    "    return [item_data[int(item[0])][1] for item in top_5]"
   ]
  },
  {
   "cell_type": "code",
   "execution_count": 14,
   "metadata": {},
   "outputs": [],
   "source": [
    "def get_top_5_svd(uid):\n",
    "    top = []\n",
    "    items = not_watch[int(uid)]\n",
    "    \n",
    "    for item in items:\n",
    "        top.append((item, algo_svd.predict(uid=uid, iid=str(item)).est))\n",
    "    \n",
    "    return sorted(top, key=lambda item: item[1], reverse=True)[:5]\n",
    "\n",
    "\n",
    "def get_top_5_movies_svd(uid):\n",
    "    top_5 = get_top_5_svd(uid)\n",
    "    return [item_data[int(item[0])][1] for item in top_5]"
   ]
  },
  {
   "cell_type": "code",
   "execution_count": 15,
   "metadata": {},
   "outputs": [],
   "source": [
    "def get_top_5_neighbors(uid):\n",
    "    inner_uid = algo_knn.trainset.to_inner_uid(uid)\n",
    "    neighbords = algo_knn.get_neighbors(iid=inner_uid, k=5)\n",
    "    return [algo_knn.trainset.to_raw_uid(iid) for iid in neighbords]"
   ]
  }
 ],
 "metadata": {
  "kernelspec": {
   "display_name": "Python 3",
   "language": "python",
   "name": "python3"
  },
  "language_info": {
   "codemirror_mode": {
    "name": "ipython",
    "version": 3
   },
   "file_extension": ".py",
   "mimetype": "text/x-python",
   "name": "python",
   "nbconvert_exporter": "python",
   "pygments_lexer": "ipython3",
   "version": "3.5.2"
  }
 },
 "nbformat": 4,
 "nbformat_minor": 2
}
