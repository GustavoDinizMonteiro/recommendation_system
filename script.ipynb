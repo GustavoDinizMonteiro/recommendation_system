{
 "cells": [
  {
   "cell_type": "markdown",
   "metadata": {},
   "source": [
    "## Movie Recommendation System\n",
    "\n",
    "This project aims to develop a simple movie recommendation system, based on data taken from the Movielens website. From this data a simple film recommendation system was developed based on two algorithms (KNN and SVD) that will be shown below."
   ]
  },
  {
   "cell_type": "code",
   "execution_count": null,
   "metadata": {
    "scrolled": true
   },
   "outputs": [],
   "source": [
    "# Imports\n",
    "import os\n",
    "import pandas\n",
    "\n",
    "from surprise import Dataset, KNNBasic, Reader, accuracy, SVD\n",
    "from surprise.model_selection import cross_validate, PredefinedKFold"
   ]
  },
  {
   "cell_type": "markdown",
   "metadata": {},
   "source": [
    "### Loading data\n",
    "\n",
    "Below the data is read in order to create a training and test set datasets,\n",
    "a set of user ids, and a set of item ids. The data set used is the ml-100k."
   ]
  },
  {
   "cell_type": "code",
   "execution_count": 2,
   "metadata": {},
   "outputs": [],
   "source": [
    "items_stream = open('ml-100k/u.item', 'r')\n",
    "item_data = items_stream.read().split('\\n')\n",
    "items_stream.close()\n",
    "\n",
    "item_data = list(map(lambda item: item.split('|')[:2], item_data))"
   ]
  },
  {
   "cell_type": "markdown",
   "metadata": {},
   "source": [
    "### Loading personalized dataset that contains 4 coluns:\n",
    "\n",
    "the user id, the item id, the rating and the timestamp of the evaluation."
   ]
  },
  {
   "cell_type": "code",
   "execution_count": 3,
   "metadata": {},
   "outputs": [],
   "source": [
    "database = pandas.read_csv('ml-100k/data.csv')\n",
    "user_set = set(database.user_id)\n",
    "item_set = set(database.item_id)\n",
    "not_watch = {user: item_set - set(database.query('user_id == %s' %(user)).item_id) for user in user_set}"
   ]
  },
  {
   "cell_type": "code",
   "execution_count": 4,
   "metadata": {},
   "outputs": [],
   "source": [
    "files_dir = os.path.expanduser('ml-100k/')\n",
    "reader = Reader('ml-100k')\n",
    "\n",
    "# Train and test sets.\n",
    "train_file = files_dir + 'u1.base'\n",
    "test_file = files_dir + 'u1.test'\n",
    "folds_files = [(train_file, test_file)]\n",
    "\n",
    "data = Dataset.load_from_folds(folds_files, reader=reader)\n",
    "pkf = PredefinedKFold()"
   ]
  },
  {
   "cell_type": "markdown",
   "metadata": {},
   "source": [
    "### Configing KNN and SVD algorithms\n",
    "\n",
    "Configing KVN algorithm to use cosine distance to calc similarity, 5 neighbors\n",
    "to take into account for aggregation with max value and set min to 2.\n",
    "\n",
    "Using default configuration of SVD."
   ]
  },
  {
   "cell_type": "code",
   "execution_count": 5,
   "metadata": {},
   "outputs": [
    {
     "name": "stdout",
     "output_type": "stream",
     "text": [
      "Computing the cosine similarity matrix...\n",
      "Done computing similarity matrix.\n"
     ]
    }
   ],
   "source": [
    "sim_options = {\n",
    "    'name': 'cosine', # Using cosine distance\n",
    "    'user_based': True  # compute  similarities between users\n",
    "}\n",
    "\n",
    "algorithm_knn = KNNBasic(sim_options=sim_options, k=5, min_k=2)\n",
    "algorithm_svd = SVD()\n",
    "\n",
    "for trainset, testset in pkf.split(data):\n",
    "    # train and test algorithm.\n",
    "    algorithm_knn.fit(trainset)\n",
    "    algorithm_svd.fit(trainset)\n",
    "    \n",
    "    predictions_knn = algorithm_knn.test(testset)\n",
    "    predictions_svd = algorithm_svd.test(testset)"
   ]
  },
  {
   "cell_type": "markdown",
   "metadata": {},
   "source": [
    "### Define methods for get top 5 movies recomended to a user based and similarity with preferencies of other users."
   ]
  },
  {
   "cell_type": "code",
   "execution_count": 6,
   "metadata": {},
   "outputs": [],
   "source": [
    "def get_top_5_knn(uid: int):\n",
    "    \"\"\"Predict top 5 movies and return indexes of them using KNN algorithm.\n",
    "    :param uid: user id.\n",
    "    :returns: A list of indexes of top 5 recomended movies.\n",
    "    \"\"\"\n",
    "    top = []\n",
    "    items = not_watch[int(uid)]\n",
    "    \n",
    "    for item in items:\n",
    "        top.append((item, algorithm_knn.predict(uid=uid, iid=str(item)).est))\n",
    "    \n",
    "    return sorted(top, key=lambda item: item[1], reverse=True)[:5]\n",
    "\n",
    "\n",
    "def get_top_5_movies_knn(uid: int):\n",
    "    \"\"\"Get the name of top 5 predicted movies for the user passed using KNN algorithm.\n",
    "    :param uid: user id.\n",
    "    :returns: A list with names of top 5 predicted movies.\n",
    "    \"\"\"\n",
    "    top_5 = get_top_5_knn(uid)\n",
    "    return [item_data[int(item[0])][1] for item in top_5]"
   ]
  },
  {
   "cell_type": "code",
   "execution_count": 7,
   "metadata": {},
   "outputs": [],
   "source": [
    "def get_top_5_svd(uid: int):\n",
    "    \"\"\"Predict top 5 movies and return indexes of them using SVD algorithm.\n",
    "    :param uid: user id.\n",
    "    :returns: A list of indexes of top 5 recomended movies.\n",
    "    \"\"\"\n",
    "    top = []\n",
    "    items = not_watch[int(uid)]\n",
    "    \n",
    "    for item in items:\n",
    "        top.append((item, algorithm_svd.predict(uid=uid, iid=str(item)).est))\n",
    "    \n",
    "    return sorted(top, key=lambda item: item[1], reverse=True)[:5]\n",
    "\n",
    "\n",
    "def get_top_5_movies_svd(uid):\n",
    "    \"\"\"Get the name of top 5 predicted movies for the user passed using SVD algorithm.\n",
    "    :param uid: user id.\n",
    "    :returns: A list with names of top 5 predicted movies.\n",
    "    \"\"\"\n",
    "    top_5 = get_top_5_svd(uid)\n",
    "    return [item_data[int(item[0])][1] for item in top_5]"
   ]
  },
  {
   "cell_type": "code",
   "execution_count": 8,
   "metadata": {},
   "outputs": [],
   "source": [
    "def get_top_5_neighbors(uid: int):\n",
    "    \"\"\"Get top 5 more similar neighbors based in users preferences.\n",
    "    :param uid: user id.\n",
    "    :returns: A list with ids of 5 more similar neighbors of passed user.\n",
    "    \"\"\"\n",
    "    inner_uid = algorithm_knn.trainset.to_inner_uid(uid)\n",
    "    neighbords = algorithm_knn.get_neighbors(iid=inner_uid, k=5)\n",
    "    \n",
    "    return [algorithm_knn.trainset.to_raw_uid(iid) for iid in neighbords]"
   ]
  }
 ],
 "metadata": {
  "kernelspec": {
   "display_name": "Python 3",
   "language": "python",
   "name": "python3"
  },
  "language_info": {
   "codemirror_mode": {
    "name": "ipython",
    "version": 3
   },
   "file_extension": ".py",
   "mimetype": "text/x-python",
   "name": "python",
   "nbconvert_exporter": "python",
   "pygments_lexer": "ipython3",
   "version": "3.5.2"
  }
 },
 "nbformat": 4,
 "nbformat_minor": 2
}
