{
 "cells": [
  {
   "cell_type": "code",
   "execution_count": 2,
   "metadata": {},
   "outputs": [
    {
     "name": "stdout",
     "output_type": "stream",
     "text": [
      "Evaluating RMSE, MAE of algorithm SVD on 5 split(s).\n",
      "\n",
      "                  Fold 1  Fold 2  Fold 3  Fold 4  Fold 5  Mean    Std     \n",
      "RMSE (testset)    0.9415  0.9342  0.9362  0.9345  0.9398  0.9372  0.0029  \n",
      "MAE (testset)     0.7444  0.7335  0.7391  0.7354  0.7398  0.7384  0.0038  \n",
      "Fit time          3.76    3.91    3.78    3.81    3.76    3.81    0.06    \n",
      "Test time         0.16    0.16    0.12    0.16    0.13    0.15    0.02    \n"
     ]
    },
    {
     "data": {
      "text/plain": [
       "{'fit_time': (3.7636237144470215,\n",
       "  3.9143483638763428,\n",
       "  3.783771276473999,\n",
       "  3.8097941875457764,\n",
       "  3.7584526538848877),\n",
       " 'test_mae': array([0.74435065, 0.73349348, 0.73907652, 0.73541883, 0.73981748]),\n",
       " 'test_rmse': array([0.941472  , 0.9342054 , 0.93618882, 0.93448088, 0.93978533]),\n",
       " 'test_time': (0.15989947319030762,\n",
       "  0.1583549976348877,\n",
       "  0.1224522590637207,\n",
       "  0.15810847282409668,\n",
       "  0.12773489952087402)}"
      ]
     },
     "execution_count": 2,
     "metadata": {},
     "output_type": "execute_result"
    }
   ],
   "source": [
    "from surprise import SVD\n",
    "from surprise import Dataset\n",
    "from surprise.model_selection import cross_validate\n",
    "\n",
    "# Load the movielens-100k dataset (download it if needed).\n",
    "data = Dataset.load_builtin('ml-100k')\n",
    "\n",
    "# Use the famous SVD algorithm.\n",
    "algo = SVD()\n",
    "\n",
    "# Run 5-fold cross-validation and print results.\n",
    "cross_validate(algo, data, measures=['RMSE', 'MAE'], cv=5, verbose=True)"
   ]
  }
 ],
 "metadata": {
  "kernelspec": {
   "display_name": "Python 3",
   "language": "python",
   "name": "python3"
  },
  "language_info": {
   "codemirror_mode": {
    "name": "ipython",
    "version": 3
   },
   "file_extension": ".py",
   "mimetype": "text/x-python",
   "name": "python",
   "nbconvert_exporter": "python",
   "pygments_lexer": "ipython3",
   "version": "3.5.2"
  }
 },
 "nbformat": 4,
 "nbformat_minor": 2
}
